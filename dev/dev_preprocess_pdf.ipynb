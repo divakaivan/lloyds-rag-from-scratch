{
 "cells": [
  {
   "cell_type": "code",
   "execution_count": 15,
   "metadata": {},
   "outputs": [],
   "source": [
    "import random\n",
    "import pandas as pd\n",
    "from sentence_transformers import SentenceTransformer\n",
    "from langchain_text_splitters import RecursiveCharacterTextSplitter\n",
    "\n",
    "device = 'mps'"
   ]
  },
  {
   "cell_type": "markdown",
   "metadata": {},
   "source": [
    "### Llama index setup"
   ]
  },
  {
   "cell_type": "code",
   "execution_count": 16,
   "metadata": {},
   "outputs": [
    {
     "name": "stdout",
     "output_type": "stream",
     "text": [
      "Started parsing the file under job_id e1c87a8b-421b-44ae-91df-74648c084392\n"
     ]
    }
   ],
   "source": [
    "import nest_asyncio\n",
    "nest_asyncio.apply()\n",
    "import os\n",
    "os.environ['LLAMA_CLOUD_API_KEY'] = ''\n",
    "from llama_parse import LlamaParse\n",
    "\n",
    "documents = LlamaParse(result_type=\"markdown\").load_data('../lbg_relationship_tnc.pdf')\n",
    "\n",
    "llama_text = documents[0].text"
   ]
  },
  {
   "cell_type": "markdown",
   "metadata": {},
   "source": [
    "### Split text"
   ]
  },
  {
   "cell_type": "code",
   "execution_count": 17,
   "metadata": {},
   "outputs": [],
   "source": [
    "text_splitter = RecursiveCharacterTextSplitter(chunk_size=1000, chunk_overlap=0)\n",
    "llama_split = text_splitter.split_text(llama_text)"
   ]
  },
  {
   "cell_type": "code",
   "execution_count": 18,
   "metadata": {},
   "outputs": [],
   "source": [
    "# turn the split texts into a list[dict] for easier save to csv\n",
    "llama_text_n_pages = []\n",
    "for page_n, page in enumerate(llama_split):\n",
    "    llama_text_n_pages.append({\n",
    "        'page_n': page_n, # number for reference\n",
    "        'sentence_chunk': page\n",
    "    })"
   ]
  },
  {
   "cell_type": "markdown",
   "metadata": {},
   "source": [
    "### Sample the chunked texts"
   ]
  },
  {
   "cell_type": "code",
   "execution_count": 19,
   "metadata": {},
   "outputs": [
    {
     "data": {
      "text/plain": [
       "[{'page_n': 36,\n",
       "  'sentence_chunk': '9.5 In compliance with the Payment Services Regulations, most domestic and cross border payments made within the UK or EEA must be made on the basis that the person making the payment pays any charges levied by its bank or other financial institution and the person receiving the payment pays any charges levied by its bank or other financial institution. We will notify you if a payment instruction does not comply with these requirements. You agree that we are authorised to alter such payment instruction so that it meets these requirements and that we are authorised to act upon such altered payment instruction.\\n---\\nCore Banking Agreement\\nCHARGES\\nYou can find details of any standard charges pat apply to our Products and pe amount of pose charges in pe General Information On Payments, Charges & Contacts\\n15\\n---\\n## Core Banking Agreement\\n\\nInterest paid and charged\\n\\nHow we pay and charge interest'}]"
      ]
     },
     "execution_count": 19,
     "metadata": {},
     "output_type": "execute_result"
    }
   ],
   "source": [
    "random.sample(llama_text_n_pages, k=1)"
   ]
  },
  {
   "cell_type": "code",
   "execution_count": 20,
   "metadata": {},
   "outputs": [
    {
     "data": {
      "text/plain": [
       "('CORE BANKING AGREEMENT RELATIONSHIP TERMS & CONDITIONS\\n---\\nNO_CONTENT_HERE\\n---\\n|Contents|Page|\\n|---|---|\\n|Important information|1|\\n|General| |\\n|Information about our relationship with you|5|\\n|Definitions and interpretation|6|\\n|Your relationship with us|9|\\n|Providing services to you|9|\\n|Your warranties|9|\\n|Who is authorised to give instructions to us|11|\\n|Confidentiality|12|\\n|Changes to the Terms and Conditions|13|\\n|Terms applying to charges|14|\\n|Interest paid and charged|16|\\n|Third Party Providers| |\\n|Partnerships|18|\\n|Suspension of a product|19|\\n|Termination|21|\\n|Your rights to cancel|24|\\n|What happens after termination or cancellation|24|\\n|Liability|25|\\n|Circumstances beyond your or our control|26|\\n|Set off|26|\\n|Other terms you need to know about your agreement with us|28|\\n|Information about us and our regulators|29|\\n|Payments| |\\n|Payment instructions|32|\\n|Providing and withdrawing consent|34|\\n|Receipt of your payment instructions|36|\\n|Processing your payment instructions|36|',\n",
       " 148)"
      ]
     },
     "execution_count": 20,
     "metadata": {},
     "output_type": "execute_result"
    }
   ],
   "source": [
    "llama_split[0], len(llama_split)"
   ]
  },
  {
   "cell_type": "markdown",
   "metadata": {},
   "source": [
    "### Embedding split text"
   ]
  },
  {
   "cell_type": "code",
   "execution_count": 21,
   "metadata": {},
   "outputs": [],
   "source": [
    "emb_model = SentenceTransformer('mixedbread-ai/mxbai-embed-large-v1').to(device)\n",
    "#mixedbread-ai/mxbai-embed-large-v1 all-mpnet-base-v2"
   ]
  },
  {
   "cell_type": "code",
   "execution_count": 22,
   "metadata": {},
   "outputs": [
    {
     "data": {
      "text/plain": [
       "(torch.Size([148, 1024]),\n",
       " tensor([[-3.6564e-01, -6.9501e-01, -3.4750e-01,  ..., -3.3676e-01,\n",
       "           9.8287e-02,  3.7684e-01],\n",
       "         [-4.5282e-01, -8.0915e-01, -4.4601e-01,  ..., -5.7205e-01,\n",
       "          -7.6268e-01,  6.9607e-01],\n",
       "         [-3.5574e-01, -7.5971e-01, -3.9172e-01,  ...,  1.7896e-04,\n",
       "          -3.0669e-01,  3.0704e-01],\n",
       "         ...,\n",
       "         [ 1.6842e-02, -8.7632e-02,  4.0924e-02,  ..., -1.3430e-01,\n",
       "          -3.5314e-01,  3.4196e-01],\n",
       "         [-8.3761e-01, -6.4777e-01, -3.3409e-01,  ..., -5.6327e-01,\n",
       "          -1.8565e-01,  5.6231e-01],\n",
       "         [-7.4132e-01, -1.0874e+00, -4.3583e-01,  ..., -5.0362e-01,\n",
       "          -4.0053e-01,  6.6981e-01]], device='mps:0'))"
      ]
     },
     "execution_count": 22,
     "metadata": {},
     "output_type": "execute_result"
    }
   ],
   "source": [
    "llama_chunk_embs = emb_model.encode(llama_split, batch_size=16, convert_to_tensor=True)\n",
    "llama_chunk_embs.shape, llama_chunk_embs"
   ]
  },
  {
   "cell_type": "markdown",
   "metadata": {},
   "source": [
    "### Save embeddings to csv (small size)"
   ]
  },
  {
   "cell_type": "code",
   "execution_count": 23,
   "metadata": {},
   "outputs": [],
   "source": [
    "emb_chunks_df = pd.DataFrame(llama_text_n_pages)\n",
    "emb_chunks_df['embedding'] = llama_chunk_embs.cpu().numpy().tolist()\n",
    "emb_df_save_path = 'emb_chunks_df.csv'\n",
    "emb_chunks_df.to_csv(emb_df_save_path, index=False)"
   ]
  },
  {
   "cell_type": "markdown",
   "metadata": {},
   "source": [
    "### Inspect embeddings"
   ]
  },
  {
   "cell_type": "code",
   "execution_count": 24,
   "metadata": {},
   "outputs": [
    {
     "data": {
      "text/plain": [
       "0      [-0.3656424283981323, -0.6950072050094604, -0....\n",
       "1      [-0.45282310247421265, -0.8091470003128052, -0...\n",
       "2      [-0.35574114322662354, -0.7597120404243469, -0...\n",
       "3      [-0.11259084939956665, -0.4700072407722473, -0...\n",
       "4      [-0.09853293001651764, -0.5731832981109619, -0...\n",
       "                             ...                        \n",
       "143    [0.08263994008302689, -0.3015971779823303, 0.4...\n",
       "144    [0.4743483364582062, 0.027600960806012154, -0....\n",
       "145    [0.016842350363731384, -0.08763177692890167, 0...\n",
       "146    [-0.837609589099884, -0.6477715373039246, -0.3...\n",
       "147    [-0.7413213849067688, -1.0873749256134033, -0....\n",
       "Name: embedding, Length: 148, dtype: object"
      ]
     },
     "execution_count": 24,
     "metadata": {},
     "output_type": "execute_result"
    }
   ],
   "source": [
    "emb_chunks_df['embedding']"
   ]
  },
  {
   "cell_type": "code",
   "execution_count": 25,
   "metadata": {},
   "outputs": [
    {
     "data": {
      "text/html": [
       "<div>\n",
       "<style scoped>\n",
       "    .dataframe tbody tr th:only-of-type {\n",
       "        vertical-align: middle;\n",
       "    }\n",
       "\n",
       "    .dataframe tbody tr th {\n",
       "        vertical-align: top;\n",
       "    }\n",
       "\n",
       "    .dataframe thead th {\n",
       "        text-align: right;\n",
       "    }\n",
       "</style>\n",
       "<table border=\"1\" class=\"dataframe\">\n",
       "  <thead>\n",
       "    <tr style=\"text-align: right;\">\n",
       "      <th></th>\n",
       "      <th>page_n</th>\n",
       "    </tr>\n",
       "  </thead>\n",
       "  <tbody>\n",
       "    <tr>\n",
       "      <th>count</th>\n",
       "      <td>148.00</td>\n",
       "    </tr>\n",
       "    <tr>\n",
       "      <th>mean</th>\n",
       "      <td>73.50</td>\n",
       "    </tr>\n",
       "    <tr>\n",
       "      <th>std</th>\n",
       "      <td>42.87</td>\n",
       "    </tr>\n",
       "    <tr>\n",
       "      <th>min</th>\n",
       "      <td>0.00</td>\n",
       "    </tr>\n",
       "    <tr>\n",
       "      <th>25%</th>\n",
       "      <td>36.75</td>\n",
       "    </tr>\n",
       "    <tr>\n",
       "      <th>50%</th>\n",
       "      <td>73.50</td>\n",
       "    </tr>\n",
       "    <tr>\n",
       "      <th>75%</th>\n",
       "      <td>110.25</td>\n",
       "    </tr>\n",
       "    <tr>\n",
       "      <th>max</th>\n",
       "      <td>147.00</td>\n",
       "    </tr>\n",
       "  </tbody>\n",
       "</table>\n",
       "</div>"
      ],
      "text/plain": [
       "       page_n\n",
       "count  148.00\n",
       "mean    73.50\n",
       "std     42.87\n",
       "min      0.00\n",
       "25%     36.75\n",
       "50%     73.50\n",
       "75%    110.25\n",
       "max    147.00"
      ]
     },
     "execution_count": 25,
     "metadata": {},
     "output_type": "execute_result"
    }
   ],
   "source": [
    "emb_chunks_df.describe().round(2)"
   ]
  }
 ],
 "metadata": {
  "kernelspec": {
   "display_name": "Python 3",
   "language": "python",
   "name": "python3"
  },
  "language_info": {
   "codemirror_mode": {
    "name": "ipython",
    "version": 3
   },
   "file_extension": ".py",
   "mimetype": "text/x-python",
   "name": "python",
   "nbconvert_exporter": "python",
   "pygments_lexer": "ipython3",
   "version": "3.11.4"
  }
 },
 "nbformat": 4,
 "nbformat_minor": 2
}
