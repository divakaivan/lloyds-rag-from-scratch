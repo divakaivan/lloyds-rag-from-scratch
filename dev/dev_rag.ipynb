{
 "cells": [
  {
   "cell_type": "code",
   "execution_count": 1,
   "metadata": {},
   "outputs": [],
   "source": [
    "from transformers import AutoTokenizer, AutoModelForCausalLM, TextStreamer\n",
    "from sentence_transformers import util, SentenceTransformer\n",
    "import pandas as pd\n",
    "import numpy as np\n",
    "import torch\n",
    "\n",
    "device = 'mps'"
   ]
  },
  {
   "cell_type": "code",
   "execution_count": 2,
   "metadata": {},
   "outputs": [
    {
     "data": {
      "text/html": [
       "<div>\n",
       "<style scoped>\n",
       "    .dataframe tbody tr th:only-of-type {\n",
       "        vertical-align: middle;\n",
       "    }\n",
       "\n",
       "    .dataframe tbody tr th {\n",
       "        vertical-align: top;\n",
       "    }\n",
       "\n",
       "    .dataframe thead th {\n",
       "        text-align: right;\n",
       "    }\n",
       "</style>\n",
       "<table border=\"1\" class=\"dataframe\">\n",
       "  <thead>\n",
       "    <tr style=\"text-align: right;\">\n",
       "      <th></th>\n",
       "      <th>page_n</th>\n",
       "      <th>sentence_chunk</th>\n",
       "      <th>embedding</th>\n",
       "    </tr>\n",
       "  </thead>\n",
       "  <tbody>\n",
       "    <tr>\n",
       "      <th>0</th>\n",
       "      <td>0</td>\n",
       "      <td>CORE BANKING AGREEMENT RELATIONSHIP TERMS &amp; CO...</td>\n",
       "      <td>[-0.3656424283981323, -0.6950072050094604, -0....</td>\n",
       "    </tr>\n",
       "    <tr>\n",
       "      <th>1</th>\n",
       "      <td>1</td>\n",
       "      <td>|Payments involving a foreign currency exchang...</td>\n",
       "      <td>[-0.45282310247421265, -0.8091470003128052, -0...</td>\n",
       "    </tr>\n",
       "    <tr>\n",
       "      <th>2</th>\n",
       "      <td>2</td>\n",
       "      <td>(\"The Agreement\") contains terms, conditions a...</td>\n",
       "      <td>[-0.35574114322662354, -0.7597120404243469, -0...</td>\n",
       "    </tr>\n",
       "    <tr>\n",
       "      <th>3</th>\n",
       "      <td>3</td>\n",
       "      <td>You need to read Product &amp; Services Terms &amp; Co...</td>\n",
       "      <td>[-0.11259084939956665, -0.4700072407722473, -0...</td>\n",
       "    </tr>\n",
       "    <tr>\n",
       "      <th>4</th>\n",
       "      <td>4</td>\n",
       "      <td>The Agreement contains terms, conditions and i...</td>\n",
       "      <td>[-0.09853293001651764, -0.5731832981109619, -0...</td>\n",
       "    </tr>\n",
       "  </tbody>\n",
       "</table>\n",
       "</div>"
      ],
      "text/plain": [
       "   page_n                                     sentence_chunk  \\\n",
       "0       0  CORE BANKING AGREEMENT RELATIONSHIP TERMS & CO...   \n",
       "1       1  |Payments involving a foreign currency exchang...   \n",
       "2       2  (\"The Agreement\") contains terms, conditions a...   \n",
       "3       3  You need to read Product & Services Terms & Co...   \n",
       "4       4  The Agreement contains terms, conditions and i...   \n",
       "\n",
       "                                           embedding  \n",
       "0  [-0.3656424283981323, -0.6950072050094604, -0....  \n",
       "1  [-0.45282310247421265, -0.8091470003128052, -0...  \n",
       "2  [-0.35574114322662354, -0.7597120404243469, -0...  \n",
       "3  [-0.11259084939956665, -0.4700072407722473, -0...  \n",
       "4  [-0.09853293001651764, -0.5731832981109619, -0...  "
      ]
     },
     "execution_count": 2,
     "metadata": {},
     "output_type": "execute_result"
    }
   ],
   "source": [
    "emb_chunks_df = pd.read_csv('emb_chunks_df.csv')\n",
    "emb_chunks_df.head()"
   ]
  },
  {
   "cell_type": "code",
   "execution_count": 3,
   "metadata": {},
   "outputs": [
    {
     "data": {
      "text/html": [
       "<div>\n",
       "<style scoped>\n",
       "    .dataframe tbody tr th:only-of-type {\n",
       "        vertical-align: middle;\n",
       "    }\n",
       "\n",
       "    .dataframe tbody tr th {\n",
       "        vertical-align: top;\n",
       "    }\n",
       "\n",
       "    .dataframe thead th {\n",
       "        text-align: right;\n",
       "    }\n",
       "</style>\n",
       "<table border=\"1\" class=\"dataframe\">\n",
       "  <thead>\n",
       "    <tr style=\"text-align: right;\">\n",
       "      <th></th>\n",
       "      <th>page_n</th>\n",
       "      <th>sentence_chunk</th>\n",
       "      <th>embedding</th>\n",
       "    </tr>\n",
       "  </thead>\n",
       "  <tbody>\n",
       "    <tr>\n",
       "      <th>0</th>\n",
       "      <td>0</td>\n",
       "      <td>CORE BANKING AGREEMENT RELATIONSHIP TERMS &amp; CO...</td>\n",
       "      <td>[-0.3656424283981323, -0.6950072050094604, -0....</td>\n",
       "    </tr>\n",
       "    <tr>\n",
       "      <th>1</th>\n",
       "      <td>1</td>\n",
       "      <td>|Payments involving a foreign currency exchang...</td>\n",
       "      <td>[-0.45282310247421265, -0.8091470003128052, -0...</td>\n",
       "    </tr>\n",
       "    <tr>\n",
       "      <th>2</th>\n",
       "      <td>2</td>\n",
       "      <td>(\"The Agreement\") contains terms, conditions a...</td>\n",
       "      <td>[-0.35574114322662354, -0.7597120404243469, -0...</td>\n",
       "    </tr>\n",
       "    <tr>\n",
       "      <th>3</th>\n",
       "      <td>3</td>\n",
       "      <td>You need to read Product &amp; Services Terms &amp; Co...</td>\n",
       "      <td>[-0.11259084939956665, -0.4700072407722473, -0...</td>\n",
       "    </tr>\n",
       "    <tr>\n",
       "      <th>4</th>\n",
       "      <td>4</td>\n",
       "      <td>The Agreement contains terms, conditions and i...</td>\n",
       "      <td>[-0.09853293001651764, -0.5731832981109619, -0...</td>\n",
       "    </tr>\n",
       "  </tbody>\n",
       "</table>\n",
       "</div>"
      ],
      "text/plain": [
       "   page_n                                     sentence_chunk  \\\n",
       "0       0  CORE BANKING AGREEMENT RELATIONSHIP TERMS & CO...   \n",
       "1       1  |Payments involving a foreign currency exchang...   \n",
       "2       2  (\"The Agreement\") contains terms, conditions a...   \n",
       "3       3  You need to read Product & Services Terms & Co...   \n",
       "4       4  The Agreement contains terms, conditions and i...   \n",
       "\n",
       "                                           embedding  \n",
       "0  [-0.3656424283981323, -0.6950072050094604, -0....  \n",
       "1  [-0.45282310247421265, -0.8091470003128052, -0...  \n",
       "2  [-0.35574114322662354, -0.7597120404243469, -0...  \n",
       "3  [-0.11259084939956665, -0.4700072407722473, -0...  \n",
       "4  [-0.09853293001651764, -0.5731832981109619, -0...  "
      ]
     },
     "execution_count": 3,
     "metadata": {},
     "output_type": "execute_result"
    }
   ],
   "source": [
    "# convert embeddings back to np.array\n",
    "emb_chunks_df['embedding'] = emb_chunks_df['embedding'].apply(lambda x: np.fromstring(x.strip('[]'), sep=', '))\n",
    "embs = torch.tensor(np.stack(emb_chunks_df['embedding'].tolist(), axis=0), dtype=torch.float32).to(device)\n",
    "\n",
    "pages_n_chunks = emb_chunks_df.to_dict(orient='records')\n",
    "\n",
    "emb_chunks_df.head()"
   ]
  },
  {
   "cell_type": "code",
   "execution_count": 4,
   "metadata": {},
   "outputs": [
    {
     "data": {
      "text/plain": [
       "(torch.Size([148, 1024]),\n",
       " tensor([[-3.6564e-01, -6.9501e-01, -3.4750e-01,  ..., -3.3676e-01,\n",
       "           9.8287e-02,  3.7684e-01],\n",
       "         [-4.5282e-01, -8.0915e-01, -4.4601e-01,  ..., -5.7205e-01,\n",
       "          -7.6268e-01,  6.9607e-01],\n",
       "         [-3.5574e-01, -7.5971e-01, -3.9172e-01,  ...,  1.7896e-04,\n",
       "          -3.0669e-01,  3.0704e-01],\n",
       "         ...,\n",
       "         [ 1.6842e-02, -8.7632e-02,  4.0924e-02,  ..., -1.3430e-01,\n",
       "          -3.5314e-01,  3.4196e-01],\n",
       "         [-8.3761e-01, -6.4777e-01, -3.3409e-01,  ..., -5.6327e-01,\n",
       "          -1.8565e-01,  5.6231e-01],\n",
       "         [-7.4132e-01, -1.0874e+00, -4.3583e-01,  ..., -5.0362e-01,\n",
       "          -4.0053e-01,  6.6981e-01]], device='mps:0'))"
      ]
     },
     "execution_count": 4,
     "metadata": {},
     "output_type": "execute_result"
    }
   ],
   "source": [
    "embs.shape, embs"
   ]
  },
  {
   "cell_type": "code",
   "execution_count": 5,
   "metadata": {},
   "outputs": [],
   "source": [
    "emb_model = SentenceTransformer('mixedbread-ai/mxbai-embed-large-v1', device=device)\n",
    "# mixedbread-ai/mxbai-embed-large-v1 all-mpnet-base-v2"
   ]
  },
  {
   "cell_type": "markdown",
   "metadata": {},
   "source": [
    "### Retrieve function"
   ]
  },
  {
   "cell_type": "code",
   "execution_count": 6,
   "metadata": {},
   "outputs": [],
   "source": [
    "def retrieve_relevant_info(query: str, embeddings: torch.tensor, model: SentenceTransformer=emb_model, n_to_retrieve: int=5) -> torch.tensor:\n",
    "    query_emb = model.encode(query, convert_to_tensor=True)\n",
    "    dot_scores = util.cos_sim(query_emb, embeddings)[0]\n",
    "    scores, indices = torch.topk(dot_scores, n_to_retrieve)\n",
    "\n",
    "    return scores, indices"
   ]
  },
  {
   "cell_type": "markdown",
   "metadata": {},
   "source": [
    "### Sample usage"
   ]
  },
  {
   "cell_type": "code",
   "execution_count": 7,
   "metadata": {},
   "outputs": [
    {
     "name": "stdout",
     "output_type": "stream",
     "text": [
      "--- Query: exchange rates abroad ---\n",
      "Score: 0.7140\n",
      "Text: beneficiary’s bank, it will be converted using that bank’s applicable exchange rate at the time.\n",
      "Page number: 101\n",
      "\n",
      "Score: 0.6870\n",
      "Text: The exchange rates we use are variable exchange rates which are changing constantly throughout the day (for example, to reflect movements in foreign exchange markets). The exchange rate applied to your payments will appear on your statement. Unless otherwise agreed with you, the exchange rate we will apply to payments you make involving a currency exchange (including any future dated payments) and payments you receive which are in a different currency to the denomination of your account will be the Lloyds Bank Foreign Exchange Rate applicable at the time that your payment is processed. You can contact us to find out the rate which will apply and you can find details of how to contact us in the General Information On Payments, Charges & Contacts or by contacting your relationship team.\n",
      "\n",
      "## Unavailable currencies\n",
      "Page number: 99\n",
      "\n",
      "Score: 0.6379\n",
      "Text: From time to time we are unable to make payments in certain currencies (you can contact us to check whether payment in a specific currency is available) and you can find details of how to contact us in the General Information On Payments, Charges & Contacts or by contacting your relationship team. If you ask us to make a payment in a currency we do not offer, we may make an equivalent payment in sterling or in a currency other than sterling and we will agree which currency with you in advance. Where we make the payment in a currency other than sterling, we will use the Lloyds Bank Foreign Exchange Rate applicable to a Product to convert the payment. If the rate actually used is different to the indicative rate used by us to calculate the sterling (or other currency) payment amount, we may debit all or part of any shortfall to your account. We will notify you if this is the case. In the event of a surplus, this will be refunded to your account. If a payment is converted by the\n",
      "Page number: 100\n",
      "\n",
      "Score: 0.6363\n",
      "Text: | |where applicable, the exchange rate used in relation to the transaction and the amount of the transaction after the currency conversion; and|\n",
      "| |the debit value date or the date of receipt of the payment order.|\n",
      "| |b. If a payment was made into your account:|\n",
      "| |a reference enabling you to identify;|\n",
      "| |where appropriate, information that we have received relating to the person making the payment and any information transferred to us with the transaction;|\n",
      "| |the amount of the transaction in the currency in which your account was credited;|\n",
      "| |the amount of any charges for the transaction and, where applicable, a breakdown of those charges, and/or any interest payable by you;|\n",
      "| |where applicable, the exchange rate used in relation to the transaction and the amount of the transaction before the currency conversion; and|\n",
      "| |the credit value date.|\n",
      "Page number: 137\n",
      "\n",
      "Score: 0.6073\n",
      "Text: 25.2 For payments to be made to a financial institution outside of the UK or EEA or for payments in currencies other than UK or EEA currencies, you agree that the timescales set out above do not apply to such payments. Please contact your relationship team for details of how long it will take to process your payment.\n",
      "\n",
      "25.3 Where we have been notified by a UK banking industry payment scheme service (such as the Current Account Switching Service), that the beneficiary of a payment has moved their current account to another financial institution, we will update your instruction with the beneficiary’s new Sort Code and Account number without further notice to you to ensure that your payment reaches the correct account within the timescales set out in this section.\n",
      "---\n",
      "## Payments involving a foreign currency exchange\n",
      "\n",
      "Foreign currency exchange rate information\n",
      "Page number: 98\n",
      "\n"
     ]
    }
   ],
   "source": [
    "def print_topk(query: str, embeddings: torch.tensor, pages_n_chunks: list[dict]=pages_n_chunks, n_to_retrieve: int=5):\n",
    "    scores, indices = retrieve_relevant_info(query, embeddings)\n",
    "\n",
    "    print(f'--- Query: {query} ---')\n",
    "    for score, idx in zip(scores, indices):\n",
    "        print(f'Score: {score:.4f}')\n",
    "        print(f'Text: {pages_n_chunks[idx][\"sentence_chunk\"]}')\n",
    "        print(f'Page number: {pages_n_chunks[idx][\"page_n\"]}\\n')\n",
    "\n",
    "query = 'exchange rates abroad'\n",
    "print_topk(query,embs)"
   ]
  },
  {
   "cell_type": "markdown",
   "metadata": {},
   "source": [
    "### Download tokenizer and LLM"
   ]
  },
  {
   "cell_type": "code",
   "execution_count": 8,
   "metadata": {},
   "outputs": [
    {
     "name": "stderr",
     "output_type": "stream",
     "text": [
      "Gemma's activation function should be approximate GeLU and not exact GeLU.\n",
      "Changing the activation function to `gelu_pytorch_tanh`.if you want to use the legacy `gelu`, edit the `model.config` to set `hidden_activation=gelu`   instead of `hidden_act`. See https://github.com/huggingface/transformers/pull/29402 for more details.\n"
     ]
    },
    {
     "data": {
      "application/vnd.jupyter.widget-view+json": {
       "model_id": "955fc5748d294fd0bb3d3dad07f5dc08",
       "version_major": 2,
       "version_minor": 0
      },
      "text/plain": [
       "Loading checkpoint shards:   0%|          | 0/2 [00:00<?, ?it/s]"
      ]
     },
     "metadata": {},
     "output_type": "display_data"
    }
   ],
   "source": [
    "model_id = 'google/gemma-2b-it'\n",
    "\n",
    "tokenizer = AutoTokenizer.from_pretrained(model_id)\n",
    "llm_model = AutoModelForCausalLM.from_pretrained(model_id, torch_dtype=torch.float16, low_cpu_mem_usage=False, attn_implementation='sdpa').to(device)"
   ]
  },
  {
   "cell_type": "markdown",
   "metadata": {},
   "source": [
    "### Queries list"
   ]
  },
  {
   "cell_type": "code",
   "execution_count": 15,
   "metadata": {},
   "outputs": [],
   "source": [
    "queries = [\n",
    "    'Do you pay interest or charge interest?',\n",
    "    'What exchange rates do you apply to payments?',\n",
    "    'Can the terms and conditions be changed?',\n",
    "    'What is meant by business day?',\n",
    "    'What is a PIN?',\n",
    "    'To whom can you disclose my confidential information?',\n",
    "    'How can I contact you?',\n",
    "    'How can I give you payment instructions?',\n",
    "    'In which cases can you terminate my account?',\n",
    "    'Who is authorised to give you instructions?',\n",
    "]"
   ]
  },
  {
   "cell_type": "markdown",
   "metadata": {},
   "source": [
    "### Base prompt"
   ]
  },
  {
   "cell_type": "code",
   "execution_count": 16,
   "metadata": {},
   "outputs": [],
   "source": [
    "def prompt_formatter(query: str, context_items: list[dict]) -> str:\n",
    "    context = '- ' + '\\n- '.join([item['sentence_chunk'] for item in context_items])\n",
    "    base_prompt = \"\"\"You are a helpful assisstant to customers about a bank's terms and conditions. \n",
    "Give yourself room to think by extracting relevant passages from the context before answering the query.\n",
    "Don't return the thinking, only return the answer.\n",
    "Make sure your answers are as clear and concise.\n",
    "Use the following couple of examples as reference for the ideal answer style, but don't use the below example answers as answers to the query.\n",
    "\\nExample 1:\n",
    "User query: I'm considering opening a new savings account with a competitive interest rate. However, I noticed a clause regarding minimum balance requirements. Could you elaborate on the potential implications of not maintaining this minimum balance?\n",
    "AI answer: That's a prudent inquiry!  Many banks offer attractive interest rates on savings accounts, but they may stipulate a minimum balance requirement.  Failing to maintain this minimum can trigger various consequences, including incurring fees or forfeiting the advertised interest rate. Carefully review the minimum balance stipulation within the T&Cs to ensure it aligns with your financial situation.\n",
    "\\nExample 2:\n",
    "User query: My bank has been sending frequent notifications regarding mobile banking security. While I appreciate the reminder, is utilizing mobile banking inherently risky?\n",
    "AI answer: Mobile banking offers undeniable convenience but does necessitate vigilance. While not inherently risky, online transactions always carry a certain level of risk.  To mitigate these risks, ensure your mobile device is equipped with a strong password and avoid using public Wi-Fi networks for banking activities. Your bank's security notifications serve as a valuable reminder to prioritize online safety measures.\n",
    "\\nNow based on the following context items:\n",
    "{context};\n",
    "\\n And answer the user's query:\n",
    "User query: <start_of_turn>user{query}<end_of_turn>\n",
    "AI answer:<start_of_turn>model\"\"\"\n",
    "\n",
    "    base_prompt = base_prompt.format(context=context, query=query)\n",
    "    \n",
    "    # make sure the inputs to the model are in the same way that they have been trained\n",
    "    dialogue_template = [\n",
    "        {\n",
    "            'role': 'user',\n",
    "            'content': base_prompt\n",
    "        }\n",
    "    ]\n",
    "    prompt = tokenizer.apply_chat_template(conversation=dialogue_template, tokenize=False, add_generation_prompt=True)\n",
    "\n",
    "    return prompt"
   ]
  },
  {
   "cell_type": "markdown",
   "metadata": {},
   "source": [
    "### Full RAG function"
   ]
  },
  {
   "cell_type": "code",
   "execution_count": 17,
   "metadata": {},
   "outputs": [],
   "source": [
    "def ask(query: str, temperature: float=0.2, max_new_tokens: int=256, format_answer_text: bool=True, return_context: bool=False):\n",
    "    # -------- RETRIEVAL --------\n",
    "    scores, indices = retrieve_relevant_info(query, embs, n_to_retrieve=5)\n",
    "    context_items = [pages_n_chunks[i] for i in indices]\n",
    "    for i, item in enumerate(context_items):\n",
    "        item['score'] = scores[i].cpu()\n",
    "\n",
    "    # -------- AUGMENTATION --------\n",
    "    prompt = prompt_formatter(query, context_items)\n",
    "\n",
    "    # -------- GENERATION --------\n",
    "    input_ids = tokenizer(prompt, return_tensors='pt').to(device)\n",
    "    streamer = TextStreamer(tokenizer, skip_prompt=True, skip_special_tokens=True)\n",
    "    outputs = llm_model.generate(**input_ids, streamer=streamer, temperature=temperature, do_sample=True, max_new_tokens=max_new_tokens)\n",
    "    output_text = tokenizer.decode(outputs[0])\n",
    "\n",
    "    if format_answer_text:\n",
    "        output_text = output_text.replace(prompt, '').replace('<bos>', '').replace('<eos>', '')\n",
    "\n",
    "    if not return_context:\n",
    "        return output_text\n",
    "    \n",
    "    return output_text, context_items"
   ]
  },
  {
   "cell_type": "markdown",
   "metadata": {},
   "source": [
    "### PDF Q&A"
   ]
  },
  {
   "cell_type": "code",
   "execution_count": 18,
   "metadata": {},
   "outputs": [
    {
     "name": "stdout",
     "output_type": "stream",
     "text": [
      "Query: Do you pay interest or charge interest?\n",
      "According to the Core Banking Agreement, the interest rate applicable to your account(s) will track the Bank of England bank rate at all times. If the Bank of England bank rate falls to -1%, the interest rate applicable to your account(s) falls to -1%. Similarly, if the Bank of England bank rate rises to 0.5%, the interest rate applicable to your account(s) rises to 0.5%.\n",
      "\n",
      "\n",
      "Query: What exchange rates do you apply to payments?\n",
      "The passage does not specify the exchange rates used by the bank, only that they apply variable exchange rates that fluctuate constantly throughout the day.\n",
      "\n",
      "\n",
      "Query: Can the terms and conditions be changed?\n",
      "Yes, the terms and conditions can be changed according to the following sections of the document:\n",
      "\n",
      "- 8.2 If we intend to make changes to the Terms and Conditions, we will give you at least two months’ written notice before the changes come into effect.\n",
      "\n",
      "- 20.4 Each of the terms within the Terms And Conditions operates separately. If any court or relevant authority decides that any of the terms are unlawful, the remaining terms will remain in full force and effect. Any unlawful terms will apply with whatever modification is necessary to give effect to the commercial intentions of you and us.\n",
      "\n",
      "\n",
      "Query: What is meant by business day?\n",
      "According to the context, a business day means 9am to 5pm every Monday to Friday other than public or bank holidays in England and Wales.\n",
      "\n",
      "\n",
      "Query: What is a PIN?\n",
      "A PIN is a personal identification number, a sequence of numbers or letters that is used to identify an individual in a financial context.\n",
      "\n",
      "\n",
      "Query: To whom can you disclose my confidential information?\n",
      "The context does not specify to whom confidential information can be disclosed, so I cannot answer this question from the context.\n",
      "\n",
      "\n",
      "Query: How can I contact you?\n",
      "The user can contact the bank by phone at 0800 023 4567 (if calling from outside the UK call on +44 20 7964 0500), by email at complaint.info@financial-ombudsman.org.uk, or by writing to:\n",
      "\n",
      "Financial Ombudsman Service\n",
      "\n",
      "Exchange Tower\n",
      "\n",
      "Harbour Exchange Square\n",
      "\n",
      "London\n",
      "\n",
      "E14 9SR\n",
      "\n",
      "\n",
      "Query: How can I give you payment instructions?\n",
      "The context does not specify how users can give you payment instructions, so I cannot answer this question from the provided context.\n",
      "\n",
      "\n",
      "Query: In which cases can you terminate my account?\n",
      "According to the context, the following cases can terminate your account:\n",
      "\n",
      "- You are in breach of the Agreement.\n",
      "- There are insufficient cleared funds in your account to cover the amount of the transaction.\n",
      "- The transaction would exceed any limit relating to any Product.\n",
      "- There is a dispute (which we reasonably believe to be genuine) about the ownership or entitlement to money in your account or we reasonably believe someone else may have rights over money in your account.\n",
      "- We become aware of any dispute between the holders of an account.\n",
      "- The terms of the account held by the beneficiary of the payment prevent completion of the transaction.\n",
      "- The payment seems unusual when considering the way that you normally use your account.\n",
      "- By processing your payment instructions, we would infringe any law or regulation.\n",
      "\n",
      "\n",
      "Query: Who is authorised to give you instructions?\n",
      "According to the context, anyone who is nominated by you to be an authorised signatory from time to time under a Mandate (and Authorised Signatories means all of such persons) can give you instructions.\n",
      "\n",
      "\n"
     ]
    }
   ],
   "source": [
    "for query in queries:\n",
    "    print(f'Query: {query}')\n",
    "    ask(query, temperature=0.7, return_context=False)\n",
    "    print('\\n')"
   ]
  }
 ],
 "metadata": {
  "kernelspec": {
   "display_name": "Python 3",
   "language": "python",
   "name": "python3"
  },
  "language_info": {
   "codemirror_mode": {
    "name": "ipython",
    "version": 3
   },
   "file_extension": ".py",
   "mimetype": "text/x-python",
   "name": "python",
   "nbconvert_exporter": "python",
   "pygments_lexer": "ipython3",
   "version": "3.11.4"
  }
 },
 "nbformat": 4,
 "nbformat_minor": 2
}
