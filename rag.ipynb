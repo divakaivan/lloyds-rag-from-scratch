{
 "cells": [
  {
   "cell_type": "code",
   "execution_count": 1,
   "metadata": {},
   "outputs": [],
   "source": [
    "import pandas as pd\n",
    "import numpy as np\n",
    "import torch\n",
    "from sentence_transformers import util, SentenceTransformer\n",
    "import matplotlib.pyplot as plt\n",
    "from transformers import AutoTokenizer, AutoModelForCausalLM, TextStreamer\n",
    "import random\n",
    "\n",
    "device = 'mps'"
   ]
  },
  {
   "cell_type": "code",
   "execution_count": 2,
   "metadata": {},
   "outputs": [
    {
     "data": {
      "text/html": [
       "<div>\n",
       "<style scoped>\n",
       "    .dataframe tbody tr th:only-of-type {\n",
       "        vertical-align: middle;\n",
       "    }\n",
       "\n",
       "    .dataframe tbody tr th {\n",
       "        vertical-align: top;\n",
       "    }\n",
       "\n",
       "    .dataframe thead th {\n",
       "        text-align: right;\n",
       "    }\n",
       "</style>\n",
       "<table border=\"1\" class=\"dataframe\">\n",
       "  <thead>\n",
       "    <tr style=\"text-align: right;\">\n",
       "      <th></th>\n",
       "      <th>page_n</th>\n",
       "      <th>text</th>\n",
       "      <th>embedding</th>\n",
       "    </tr>\n",
       "  </thead>\n",
       "  <tbody>\n",
       "    <tr>\n",
       "      <th>0</th>\n",
       "      <td>0</td>\n",
       "      <td>CORE BANKING AGREEMENT RELATIONSHIP TERMS &amp; CO...</td>\n",
       "      <td>[-0.289400577545166, -0.6761614680290222, -0.2...</td>\n",
       "    </tr>\n",
       "    <tr>\n",
       "      <th>1</th>\n",
       "      <td>1</td>\n",
       "      <td>|Information about us and our regulators|29|\\n...</td>\n",
       "      <td>[-0.322034627199173, -0.8583006262779236, -0.5...</td>\n",
       "    </tr>\n",
       "    <tr>\n",
       "      <th>2</th>\n",
       "      <td>2</td>\n",
       "      <td>|Your obligations relating to the security of ...</td>\n",
       "      <td>[-0.09293383359909058, -0.43664729595184326, -...</td>\n",
       "    </tr>\n",
       "    <tr>\n",
       "      <th>3</th>\n",
       "      <td>3</td>\n",
       "      <td>(\"The Agreement\") contains terms, conditions a...</td>\n",
       "      <td>[-0.36704424023628235, -0.7181680202484131, 0....</td>\n",
       "    </tr>\n",
       "    <tr>\n",
       "      <th>4</th>\n",
       "      <td>4</td>\n",
       "      <td>|RELATIONSHIP TERMS &amp; CONDITIONS|PRODUCT &amp; SER...</td>\n",
       "      <td>[-0.19214218854904175, -0.26558810472488403, -...</td>\n",
       "    </tr>\n",
       "  </tbody>\n",
       "</table>\n",
       "</div>"
      ],
      "text/plain": [
       "   page_n                                               text  \\\n",
       "0       0  CORE BANKING AGREEMENT RELATIONSHIP TERMS & CO...   \n",
       "1       1  |Information about us and our regulators|29|\\n...   \n",
       "2       2  |Your obligations relating to the security of ...   \n",
       "3       3  (\"The Agreement\") contains terms, conditions a...   \n",
       "4       4  |RELATIONSHIP TERMS & CONDITIONS|PRODUCT & SER...   \n",
       "\n",
       "                                           embedding  \n",
       "0  [-0.289400577545166, -0.6761614680290222, -0.2...  \n",
       "1  [-0.322034627199173, -0.8583006262779236, -0.5...  \n",
       "2  [-0.09293383359909058, -0.43664729595184326, -...  \n",
       "3  [-0.36704424023628235, -0.7181680202484131, 0....  \n",
       "4  [-0.19214218854904175, -0.26558810472488403, -...  "
      ]
     },
     "execution_count": 2,
     "metadata": {},
     "output_type": "execute_result"
    }
   ],
   "source": [
    "emb_chunks_df = pd.read_csv('emb_chunks_df.csv')\n",
    "emb_chunks_df.head()"
   ]
  },
  {
   "cell_type": "code",
   "execution_count": 3,
   "metadata": {},
   "outputs": [
    {
     "data": {
      "text/html": [
       "<div>\n",
       "<style scoped>\n",
       "    .dataframe tbody tr th:only-of-type {\n",
       "        vertical-align: middle;\n",
       "    }\n",
       "\n",
       "    .dataframe tbody tr th {\n",
       "        vertical-align: top;\n",
       "    }\n",
       "\n",
       "    .dataframe thead th {\n",
       "        text-align: right;\n",
       "    }\n",
       "</style>\n",
       "<table border=\"1\" class=\"dataframe\">\n",
       "  <thead>\n",
       "    <tr style=\"text-align: right;\">\n",
       "      <th></th>\n",
       "      <th>page_n</th>\n",
       "      <th>text</th>\n",
       "      <th>embedding</th>\n",
       "    </tr>\n",
       "  </thead>\n",
       "  <tbody>\n",
       "    <tr>\n",
       "      <th>0</th>\n",
       "      <td>0</td>\n",
       "      <td>CORE BANKING AGREEMENT RELATIONSHIP TERMS &amp; CO...</td>\n",
       "      <td>[-0.289400577545166, -0.6761614680290222, -0.2...</td>\n",
       "    </tr>\n",
       "    <tr>\n",
       "      <th>1</th>\n",
       "      <td>1</td>\n",
       "      <td>|Information about us and our regulators|29|\\n...</td>\n",
       "      <td>[-0.322034627199173, -0.8583006262779236, -0.5...</td>\n",
       "    </tr>\n",
       "    <tr>\n",
       "      <th>2</th>\n",
       "      <td>2</td>\n",
       "      <td>|Your obligations relating to the security of ...</td>\n",
       "      <td>[-0.09293383359909058, -0.43664729595184326, -...</td>\n",
       "    </tr>\n",
       "    <tr>\n",
       "      <th>3</th>\n",
       "      <td>3</td>\n",
       "      <td>(\"The Agreement\") contains terms, conditions a...</td>\n",
       "      <td>[-0.36704424023628235, -0.7181680202484131, 0....</td>\n",
       "    </tr>\n",
       "    <tr>\n",
       "      <th>4</th>\n",
       "      <td>4</td>\n",
       "      <td>|RELATIONSHIP TERMS &amp; CONDITIONS|PRODUCT &amp; SER...</td>\n",
       "      <td>[-0.19214218854904175, -0.26558810472488403, -...</td>\n",
       "    </tr>\n",
       "  </tbody>\n",
       "</table>\n",
       "</div>"
      ],
      "text/plain": [
       "   page_n                                               text  \\\n",
       "0       0  CORE BANKING AGREEMENT RELATIONSHIP TERMS & CO...   \n",
       "1       1  |Information about us and our regulators|29|\\n...   \n",
       "2       2  |Your obligations relating to the security of ...   \n",
       "3       3  (\"The Agreement\") contains terms, conditions a...   \n",
       "4       4  |RELATIONSHIP TERMS & CONDITIONS|PRODUCT & SER...   \n",
       "\n",
       "                                           embedding  \n",
       "0  [-0.289400577545166, -0.6761614680290222, -0.2...  \n",
       "1  [-0.322034627199173, -0.8583006262779236, -0.5...  \n",
       "2  [-0.09293383359909058, -0.43664729595184326, -...  \n",
       "3  [-0.36704424023628235, -0.7181680202484131, 0....  \n",
       "4  [-0.19214218854904175, -0.26558810472488403, -...  "
      ]
     },
     "execution_count": 3,
     "metadata": {},
     "output_type": "execute_result"
    }
   ],
   "source": [
    "# convert embeddings back to np.array\n",
    "emb_chunks_df['embedding'] = emb_chunks_df['embedding'].apply(lambda x: np.fromstring(x.strip('[]'), sep=', '))\n",
    "embs = torch.tensor(np.stack(emb_chunks_df['embedding'].tolist(), axis=0), dtype=torch.float32).to(device)\n",
    "\n",
    "pages_n_chunks = emb_chunks_df.to_dict(orient='records')\n",
    "\n",
    "emb_chunks_df.head()"
   ]
  },
  {
   "cell_type": "code",
   "execution_count": 4,
   "metadata": {},
   "outputs": [
    {
     "data": {
      "text/plain": [
       "(torch.Size([198, 1024]),\n",
       " tensor([[-0.2894, -0.6762, -0.2548,  ..., -0.2197,  0.0575,  0.2950],\n",
       "         [-0.3220, -0.8583, -0.5748,  ..., -0.4800, -0.3515,  0.4240],\n",
       "         [-0.0929, -0.4366, -0.6115,  ..., -0.1398, -0.7231,  0.4906],\n",
       "         ...,\n",
       "         [-0.8480, -0.5612, -0.6425,  ..., -0.5232, -0.2608,  0.8832],\n",
       "         [-0.7390, -1.1355, -0.4723,  ..., -0.5159, -0.4490,  0.7281],\n",
       "         [-0.2831,  0.1584, -0.2007,  ..., -0.0353,  0.0897,  0.0589]],\n",
       "        device='mps:0'))"
      ]
     },
     "execution_count": 4,
     "metadata": {},
     "output_type": "execute_result"
    }
   ],
   "source": [
    "embs.shape, embs"
   ]
  },
  {
   "cell_type": "code",
   "execution_count": 5,
   "metadata": {},
   "outputs": [],
   "source": [
    "emb_model = SentenceTransformer('mixedbread-ai/mxbai-embed-large-v1', device=device)\n",
    "# mixedbread-ai/mxbai-embed-large-v1 all-mpnet-base-v2"
   ]
  },
  {
   "cell_type": "code",
   "execution_count": 6,
   "metadata": {},
   "outputs": [
    {
     "name": "stdout",
     "output_type": "stream",
     "text": [
      "*** Query: foreign currency exchange ***\n",
      "\n",
      "Score: 0.7045\n",
      "Text: ## Unavailable currencies\n",
      "Page number: 137\n",
      "\n",
      "Score: 0.6990\n",
      "Text: |Summary of execution times| |\n",
      "|---|---|\n",
      "|Payments in sterling to a financial institution in the UK|End of the next Business Day (or end of the second Business Day if your instructions were initiated in paper form)|\n",
      "|Payments in euro to a financial institution in the UK or EEA|End of the next Business Day (or end of the second Business Day if your instructions were initiated in paper form)|\n",
      "|Payments in EEA currencies other than euro to a financial institution in the UK or EEA (but not including payments in sterling to be made to a financial institution in the UK)|End of the fourth Business Day|\n",
      "|Payments to be made to a financial institution outside of the UK or EEA|Please contact your relationship team for details|\n",
      "Page number: 132\n",
      "\n",
      "Score: 0.6914\n",
      "Text: From time to time we are unable to make payments in certain currencies (you can contact us to check whether payment in a specific currency is available) and you can find details of how to contact us in the General Information On Payments, Charges & Contacts or by contacting your relationship team. If you ask us to make a payment in a currency we do not offer, we may make an equivalent payment in sterling or in a currency other than sterling and we will agree which currency with you in advance. Where we make the payment in a currency other than sterling, we will use the Lloyds Bank Foreign Exchange Rate applicable to a Product to convert the payment. If the rate actually used is different to the indicative rate used by us to calculate the sterling (or other currency) payment amount, we may\n",
      "Page number: 138\n",
      "\n",
      "Score: 0.6865\n",
      "Text: The exchange rates we use are variable exchange rates which are changing constantly throughout the day (for example, to reflect movements in foreign exchange markets). The exchange rate applied to your payments will appear on your statement. Unless otherwise agreed with you, the exchange rate we will apply to payments you make involving a currency exchange (including any future dated payments) and payments you receive which are in a different currency to the denomination of your account will be the Lloyds Bank Foreign Exchange Rate applicable at the time that your payment is processed. You can contact us to find out the rate which will apply and you can find details of how to contact us in the General Information On Payments, Charges & Contacts or by contacting your relationship team.\n",
      "Page number: 136\n",
      "\n",
      "Score: 0.6766\n",
      "Text: | |the amount of any charges for the transaction and, where applicable, a breakdown of those charges, and/or any interest payable by you;|\n",
      "| |where applicable, the exchange rate used in relation to the transaction and the amount of the transaction after the currency conversion; and|\n",
      "| |the debit value date or the date of receipt of the payment order.|\n",
      "| |b. If a payment was made into your account:|\n",
      "| |a reference enabling you to identify;|\n",
      "| |where appropriate, information that we have received relating to the person making the payment and any information transferred to us with the transaction;|\n",
      "| |the amount of the transaction in the currency in which your account was credited;|\n",
      "Page number: 183\n",
      "\n"
     ]
    }
   ],
   "source": [
    "query = 'foreign currency exchange'\n",
    "\n",
    "query_emb = emb_model.encode(query, convert_to_tensor=True).to(device)\n",
    "\n",
    "scores = util.cos_sim(a=query_emb, b=embs)[0] # cos_sim dot_score\n",
    "\n",
    "top_results = torch.topk(scores, k=5)\n",
    "\n",
    "print(f'*** Query: {query} ***\\n')\n",
    "for score, idx in zip(top_results[0], top_results[1]):\n",
    "    print(f'Score: {score:.4f}')\n",
    "    print(f'Text: {pages_n_chunks[idx][\"sentence_chunk\"]}')\n",
    "    print(f'Page number: {pages_n_chunks[idx][\"page_n\"]}\\n')\n"
   ]
  },
  {
   "cell_type": "code",
   "execution_count": 7,
   "metadata": {},
   "outputs": [],
   "source": [
    "def retrieve_relevant_info(query: str, embeddings: torch.tensor, model: SentenceTransformer=emb_model, n_to_retrieve: int=5) -> torch.tensor:\n",
    "    query_emb = model.encode(query, convert_to_tensor=True)\n",
    "    dot_scores = util.cos_sim(query_emb, embeddings)[0]\n",
    "    scores, indices = torch.topk(dot_scores, n_to_retrieve)\n",
    "    print(scores)\n",
    "    return scores, indices\n",
    "\n",
    "def print_topk(query: str, embeddings: torch.tensor, pages_n_chunks: list[dict]=pages_n_chunks, n_to_retrieve: int=5):\n",
    "    scores, indices = retrieve_relevant_info(query, embeddings)\n",
    "\n",
    "    print(f'--- Query: {query} ---')\n",
    "    for score, idx in zip(scores, indices):\n",
    "        print(f'Score: {score:.4f}')\n",
    "        print(f'Text: {pages_n_chunks[idx][\"sentence_chunk\"]}')\n",
    "        print(f'Page number: {pages_n_chunks[idx][\"page_n\"]}\\n')"
   ]
  },
  {
   "cell_type": "code",
   "execution_count": 8,
   "metadata": {},
   "outputs": [
    {
     "name": "stdout",
     "output_type": "stream",
     "text": [
      "tensor([0.6753, 0.6521, 0.6400, 0.6327, 0.6092], device='mps:0')\n",
      "--- Query: exchange rates abroad ---\n",
      "Score: 0.6753\n",
      "Text: The exchange rates we use are variable exchange rates which are changing constantly throughout the day (for example, to reflect movements in foreign exchange markets). The exchange rate applied to your payments will appear on your statement. Unless otherwise agreed with you, the exchange rate we will apply to payments you make involving a currency exchange (including any future dated payments) and payments you receive which are in a different currency to the denomination of your account will be the Lloyds Bank Foreign Exchange Rate applicable at the time that your payment is processed. You can contact us to find out the rate which will apply and you can find details of how to contact us in the General Information On Payments, Charges & Contacts or by contacting your relationship team.\n",
      "Page number: 136\n",
      "\n",
      "Score: 0.6521\n",
      "Text: From time to time we are unable to make payments in certain currencies (you can contact us to check whether payment in a specific currency is available) and you can find details of how to contact us in the General Information On Payments, Charges & Contacts or by contacting your relationship team. If you ask us to make a payment in a currency we do not offer, we may make an equivalent payment in sterling or in a currency other than sterling and we will agree which currency with you in advance. Where we make the payment in a currency other than sterling, we will use the Lloyds Bank Foreign Exchange Rate applicable to a Product to convert the payment. If the rate actually used is different to the indicative rate used by us to calculate the sterling (or other currency) payment amount, we may\n",
      "Page number: 138\n",
      "\n",
      "Score: 0.6400\n",
      "Text: |Payments in currencies other than UK or EEA currencies|Please contact your relationship team for details|\n",
      "Page number: 133\n",
      "\n",
      "Score: 0.6327\n",
      "Text: ## Unavailable currencies\n",
      "Page number: 137\n",
      "\n",
      "Score: 0.6092\n",
      "Text: | |the amount of any charges for the transaction and, where applicable, a breakdown of those charges, and/or any interest payable by you;|\n",
      "| |where applicable, the exchange rate used in relation to the transaction and the amount of the transaction after the currency conversion; and|\n",
      "| |the debit value date or the date of receipt of the payment order.|\n",
      "| |b. If a payment was made into your account:|\n",
      "| |a reference enabling you to identify;|\n",
      "| |where appropriate, information that we have received relating to the person making the payment and any information transferred to us with the transaction;|\n",
      "| |the amount of the transaction in the currency in which your account was credited;|\n",
      "Page number: 183\n",
      "\n"
     ]
    }
   ],
   "source": [
    "query = 'exchange rates abroad'\n",
    "print_topk(query,embs)"
   ]
  },
  {
   "cell_type": "code",
   "execution_count": 9,
   "metadata": {},
   "outputs": [
    {
     "name": "stderr",
     "output_type": "stream",
     "text": [
      "Gemma's activation function should be approximate GeLU and not exact GeLU.\n",
      "Changing the activation function to `gelu_pytorch_tanh`.if you want to use the legacy `gelu`, edit the `model.config` to set `hidden_activation=gelu`   instead of `hidden_act`. See https://github.com/huggingface/transformers/pull/29402 for more details.\n"
     ]
    },
    {
     "data": {
      "application/vnd.jupyter.widget-view+json": {
       "model_id": "03963ec99c1748e5a1b0869557e19318",
       "version_major": 2,
       "version_minor": 0
      },
      "text/plain": [
       "Loading checkpoint shards:   0%|          | 0/2 [00:00<?, ?it/s]"
      ]
     },
     "metadata": {},
     "output_type": "display_data"
    }
   ],
   "source": [
    "model_id = 'google/gemma-2b-it'\n",
    "\n",
    "tokenizer = AutoTokenizer.from_pretrained(model_id)\n",
    "llm_model = AutoModelForCausalLM.from_pretrained(model_id, torch_dtype=torch.float16, low_cpu_mem_usage=False, attn_implementation='sdpa').to(device)"
   ]
  },
  {
   "cell_type": "code",
   "execution_count": 10,
   "metadata": {},
   "outputs": [],
   "source": [
    "queries = [\n",
    "    'In what cases may I close my account?',\n",
    "    'How do you pay and charge interest?',\n",
    "    'Can the terms and conditions be changed?',\n",
    "    'What is meant by business day?',\n",
    "    'What is a PIN?',\n",
    "    'To whom can you disclose my confidential information?',\n",
    "    'How can I reach you?',\n",
    "    'How do you receive my payment instructions?',\n",
    "    'In which cases can you terminate my account?',\n",
    "    'Who is authorised to give you instructions?',\n",
    "]"
   ]
  },
  {
   "cell_type": "code",
   "execution_count": 11,
   "metadata": {},
   "outputs": [],
   "source": [
    "def prompt_formatter(query: str, context_items: list[dict]) -> str:\n",
    "    context = '- ' + '\\n- '.join([item['sentence_chunk'] for item in context_items])\n",
    "    base_prompt = \"\"\"You are a helpful assisstant to customers about a bank's terms and conditions. \n",
    "Give yourself room to think by extracting relevant passages from the context before answering the query.\n",
    "Don't return the thinking, only return the answer.\n",
    "Make sure your answers are as clear and concise.\n",
    "Use the following couple of examples as reference for the ideal answer style, but don't use the below example answers as answers to the query.\n",
    "\\nExample 1:\n",
    "User query: I'm considering opening a new savings account with a competitive interest rate. However, I noticed a clause regarding minimum balance requirements. Could you elaborate on the potential implications of not maintaining this minimum balance?\n",
    "AI answer: That's a prudent inquiry!  Many banks offer attractive interest rates on savings accounts, but they may stipulate a minimum balance requirement.  Failing to maintain this minimum can trigger various consequences, including incurring fees or forfeiting the advertised interest rate. Carefully review the minimum balance stipulation within the T&Cs to ensure it aligns with your financial situation.\n",
    "\\nExample 2:\n",
    "User query: My bank has been sending frequent notifications regarding mobile banking security. While I appreciate the reminder, is utilizing mobile banking inherently risky?\n",
    "AI answer: Mobile banking offers undeniable convenience but does necessitate vigilance. While not inherently risky, online transactions always carry a certain level of risk.  To mitigate these risks, ensure your mobile device is equipped with a strong password and avoid using public Wi-Fi networks for banking activities. Your bank's security notifications serve as a valuable reminder to prioritize online safety measures.\n",
    "\\nNow based on the following context items:\n",
    "{context};\n",
    "\\n And answer the user's query:\n",
    "User query: <start_of_turn>user{query}<end_of_turn>\n",
    "AI answer:<start_of_turn>model\"\"\"\n",
    "\n",
    "    base_prompt = base_prompt.format(context=context, query=query)\n",
    "    \n",
    "    # make sure the inputs to the model are in the same way that they have been trained\n",
    "    dialogue_template = [\n",
    "        {\n",
    "            'role': 'user',\n",
    "            'content': base_prompt\n",
    "        }\n",
    "    ]\n",
    "    prompt = tokenizer.apply_chat_template(conversation=dialogue_template, tokenize=False, add_generation_prompt=True)\n",
    "\n",
    "    return prompt"
   ]
  },
  {
   "cell_type": "code",
   "execution_count": 12,
   "metadata": {},
   "outputs": [],
   "source": [
    "def ask(query: str, temperature: float=0.2, max_new_tokens: int=256, format_answer_text: bool=True, return_context: bool=False):\n",
    "    # -------- RETRIEVAL --------\n",
    "    scores, indices = retrieve_relevant_info(query, embs, n_to_retrieve=5)\n",
    "    context_items = [pages_n_chunks[i] for i in indices]\n",
    "    for i, item in enumerate(context_items):\n",
    "        item['score'] = scores[i].cpu()\n",
    "\n",
    "    # -------- AUGMENTATION --------\n",
    "    prompt = prompt_formatter(query, context_items)\n",
    "\n",
    "    # -------- GENERATION --------\n",
    "    input_ids = tokenizer(prompt, return_tensors='pt').to(device)\n",
    "    streamer = TextStreamer(tokenizer, skip_prompt=True, skip_special_tokens=True)\n",
    "    outputs = llm_model.generate(**input_ids, streamer=streamer, temperature=temperature, do_sample=True, max_new_tokens=max_new_tokens)\n",
    "    output_text = tokenizer.decode(outputs[0])\n",
    "\n",
    "    if format_answer_text:\n",
    "        output_text = output_text.replace(prompt, '').replace('<bos>', '').replace('<eos>', '')\n",
    "\n",
    "    if not return_context:\n",
    "        return output_text\n",
    "    \n",
    "    return output_text, context_items"
   ]
  },
  {
   "cell_type": "code",
   "execution_count": 13,
   "metadata": {},
   "outputs": [
    {
     "name": "stdout",
     "output_type": "stream",
     "text": [
      "Query: In what cases may I close my account?\n",
      "tensor([0.6776, 0.6749, 0.6690, 0.6513, 0.6424], device='mps:0')\n",
      "According to the context, the following circumstances may lead to the closure of an account:\n",
      "\n",
      "- You do not maintain the minimum balance requirement for that particular savings account.\n",
      "- You become overdrawn in relation to a product, or exceed any overdraft limit.\n",
      "- There is a dispute between the holders of the account.\n",
      "- You are insolvent.\n",
      "- You are found to be using the account illegally, fraudulently, or outside of the terms of the agreement.\n",
      "\n",
      "\n",
      "Query: How do you pay and charge interest?\n",
      "tensor([0.7863, 0.6881, 0.6769, 0.6568, 0.6566], device='mps:0')\n",
      "The context does not provide information about how the bank pays and charges interest, so I cannot answer this question from the provided context.\n",
      "\n",
      "\n",
      "Query: Can the terms and conditions be changed?\n",
      "tensor([0.7511, 0.7375, 0.7299, 0.6941, 0.6721], device='mps:0')\n",
      "Yes, the terms and conditions can be changed at any time by the bank. According to section 8.2, the bank must give the users at least two months' written notice of any changes to the terms and conditions.\n",
      "\n",
      "\n",
      "Query: What is meant by business day?\n",
      "tensor([0.6774, 0.6762, 0.5913, 0.5851, 0.5522], device='mps:0')\n",
      "According to the context, a business day means 9am to 5pm every Monday to Friday other than public or bank holidays in England and Wales.\n",
      "\n",
      "\n",
      "Query: What is a PIN?\n",
      "tensor([0.5739, 0.4867, 0.4752, 0.4597, 0.4522], device='mps:0')\n",
      "A PIN is a Personal Identification Number, a unique sequence of digits used by the user to access or control their financial accounts. It is typically a combination of 4 or 5 digits and serves as a password that allows the user to make secure transactions and access their account information.\n",
      "\n",
      "\n",
      "Query: To whom can you disclose my confidential information?\n",
      "tensor([0.8057, 0.7211, 0.6971, 0.6953, 0.6546], device='mps:0')\n",
      "The context does not provide information about whom you can disclose your confidential information to, so I cannot answer this question from the provided context.\n",
      "\n",
      "\n",
      "Query: How can I reach you?\n",
      "tensor([0.6146, 0.5417, 0.5209, 0.5145, 0.5065], device='mps:0')\n",
      "The context does not provide any information on how users can reach customer support, so I cannot answer this question from the provided context.\n",
      "\n",
      "\n",
      "Query: How do you receive my payment instructions?\n",
      "tensor([0.7597, 0.7251, 0.7217, 0.7133, 0.7021], device='mps:0')\n",
      "The context does not specify how the user receives payment instructions, so I cannot answer this question from the provided context.\n",
      "\n",
      "\n",
      "Query: In which cases can you terminate my account?\n",
      "tensor([0.7200, 0.7169, 0.6682, 0.6476, 0.6437], device='mps:0')\n",
      "Sure. Here are the cases where you can terminate your account:\n",
      "\n",
      "1. Your account is closed for non-payment.\n",
      "2. You become insolvent.\n",
      "3. There is a dispute between the holders of your account.\n",
      "4. You are found to be using the product illegally, fraudulently, or outside of the terms of the agreement.\n",
      "5. There are insufficient cleared funds in your account to cover the amount of the transaction.\n",
      "6. The transaction would exceed any limit relating to any product.\n",
      "7. There is a dispute about the ownership or entitlement to money in your account.\n",
      "8. We reasonably believe someone else may have rights over money in your account.\n",
      "\n",
      "\n",
      "Query: Who is authorised to give you instructions?\n",
      "tensor([0.7779, 0.7618, 0.6668, 0.6307, 0.6182], device='mps:0')\n",
      "According to the context, the ways in which your payment instructions will be given to us differ for each product and can be found in the product and services terms and conditions for each product.\n",
      "\n",
      "\n"
     ]
    }
   ],
   "source": [
    "# query = random.choice(queries) # 'What is meant by Business Day?'\n",
    "for query in queries:\n",
    "    print(f'Query: {query}')\n",
    "    ask(query, temperature=0.7, return_context=False)\n",
    "    print('\\n')"
   ]
  },
  {
   "cell_type": "code",
   "execution_count": 14,
   "metadata": {},
   "outputs": [],
   "source": [
    "torch.mps.empty_cache()"
   ]
  },
  {
   "cell_type": "code",
   "execution_count": null,
   "metadata": {},
   "outputs": [],
   "source": []
  }
 ],
 "metadata": {
  "kernelspec": {
   "display_name": "Python 3",
   "language": "python",
   "name": "python3"
  },
  "language_info": {
   "codemirror_mode": {
    "name": "ipython",
    "version": 3
   },
   "file_extension": ".py",
   "mimetype": "text/x-python",
   "name": "python",
   "nbconvert_exporter": "python",
   "pygments_lexer": "ipython3",
   "version": "3.11.4"
  }
 },
 "nbformat": 4,
 "nbformat_minor": 2
}
