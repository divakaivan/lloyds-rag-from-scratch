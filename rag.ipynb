{
 "cells": [
  {
   "cell_type": "code",
   "execution_count": 20,
   "metadata": {},
   "outputs": [],
   "source": [
    "import pandas as pd\n",
    "import numpy as np\n",
    "import torch\n",
    "from sentence_transformers import util, SentenceTransformer\n",
    "import matplotlib.pyplot as plt\n",
    "from transformers import AutoTokenizer, AutoModelForCausalLM, TextStreamer\n",
    "import random\n",
    "\n",
    "device = 'mps'"
   ]
  },
  {
   "cell_type": "code",
   "execution_count": 21,
   "metadata": {},
   "outputs": [
    {
     "data": {
      "text/html": [
       "<div>\n",
       "<style scoped>\n",
       "    .dataframe tbody tr th:only-of-type {\n",
       "        vertical-align: middle;\n",
       "    }\n",
       "\n",
       "    .dataframe tbody tr th {\n",
       "        vertical-align: top;\n",
       "    }\n",
       "\n",
       "    .dataframe thead th {\n",
       "        text-align: right;\n",
       "    }\n",
       "</style>\n",
       "<table border=\"1\" class=\"dataframe\">\n",
       "  <thead>\n",
       "    <tr style=\"text-align: right;\">\n",
       "      <th></th>\n",
       "      <th>page_n</th>\n",
       "      <th>sentence_chunk</th>\n",
       "      <th>chunk_chars</th>\n",
       "      <th>chunk_words</th>\n",
       "      <th>chunk_tokens</th>\n",
       "      <th>embedding</th>\n",
       "    </tr>\n",
       "  </thead>\n",
       "  <tbody>\n",
       "    <tr>\n",
       "      <th>0</th>\n",
       "      <td>0</td>\n",
       "      <td>RELATIONSHIP TERMS &amp; CONDITIONS CORE BANKING A...</td>\n",
       "      <td>54</td>\n",
       "      <td>7</td>\n",
       "      <td>13.50</td>\n",
       "      <td>[-0.28527069091796875, -0.5010668635368347, -0...</td>\n",
       "    </tr>\n",
       "    <tr>\n",
       "      <th>1</th>\n",
       "      <td>2</td>\n",
       "      <td>Contents Important information 1 1 General 1. ...</td>\n",
       "      <td>1496</td>\n",
       "      <td>248</td>\n",
       "      <td>374.00</td>\n",
       "      <td>[-0.2918225824832916, -0.7688528895378113, -0....</td>\n",
       "    </tr>\n",
       "    <tr>\n",
       "      <th>2</th>\n",
       "      <td>2</td>\n",
       "      <td>of your accounts, payments 49 and payment inst...</td>\n",
       "      <td>117</td>\n",
       "      <td>18</td>\n",
       "      <td>29.25</td>\n",
       "      <td>[-0.12205161154270172, -0.7234632968902588, -0...</td>\n",
       "    </tr>\n",
       "    <tr>\n",
       "      <th>3</th>\n",
       "      <td>3</td>\n",
       "      <td>Core Banking Agreement (“The Agreement”) conta...</td>\n",
       "      <td>243</td>\n",
       "      <td>36</td>\n",
       "      <td>60.75</td>\n",
       "      <td>[-0.3948034644126892, -0.8225910663604736, -0....</td>\n",
       "    </tr>\n",
       "    <tr>\n",
       "      <th>4</th>\n",
       "      <td>4</td>\n",
       "      <td>Core Banking Agreement 1 Important Information...</td>\n",
       "      <td>1037</td>\n",
       "      <td>156</td>\n",
       "      <td>259.25</td>\n",
       "      <td>[-0.030174657702445984, -0.39982807636260986, ...</td>\n",
       "    </tr>\n",
       "  </tbody>\n",
       "</table>\n",
       "</div>"
      ],
      "text/plain": [
       "   page_n                                     sentence_chunk  chunk_chars  \\\n",
       "0       0  RELATIONSHIP TERMS & CONDITIONS CORE BANKING A...           54   \n",
       "1       2  Contents Important information 1 1 General 1. ...         1496   \n",
       "2       2  of your accounts, payments 49 and payment inst...          117   \n",
       "3       3  Core Banking Agreement (“The Agreement”) conta...          243   \n",
       "4       4  Core Banking Agreement 1 Important Information...         1037   \n",
       "\n",
       "   chunk_words  chunk_tokens  \\\n",
       "0            7         13.50   \n",
       "1          248        374.00   \n",
       "2           18         29.25   \n",
       "3           36         60.75   \n",
       "4          156        259.25   \n",
       "\n",
       "                                           embedding  \n",
       "0  [-0.28527069091796875, -0.5010668635368347, -0...  \n",
       "1  [-0.2918225824832916, -0.7688528895378113, -0....  \n",
       "2  [-0.12205161154270172, -0.7234632968902588, -0...  \n",
       "3  [-0.3948034644126892, -0.8225910663604736, -0....  \n",
       "4  [-0.030174657702445984, -0.39982807636260986, ...  "
      ]
     },
     "execution_count": 21,
     "metadata": {},
     "output_type": "execute_result"
    }
   ],
   "source": [
    "emb_chunks_df = pd.read_csv('emb_chunks_df.csv')\n",
    "emb_chunks_df.head()"
   ]
  },
  {
   "cell_type": "code",
   "execution_count": 22,
   "metadata": {},
   "outputs": [
    {
     "data": {
      "text/html": [
       "<div>\n",
       "<style scoped>\n",
       "    .dataframe tbody tr th:only-of-type {\n",
       "        vertical-align: middle;\n",
       "    }\n",
       "\n",
       "    .dataframe tbody tr th {\n",
       "        vertical-align: top;\n",
       "    }\n",
       "\n",
       "    .dataframe thead th {\n",
       "        text-align: right;\n",
       "    }\n",
       "</style>\n",
       "<table border=\"1\" class=\"dataframe\">\n",
       "  <thead>\n",
       "    <tr style=\"text-align: right;\">\n",
       "      <th></th>\n",
       "      <th>page_n</th>\n",
       "      <th>sentence_chunk</th>\n",
       "      <th>chunk_chars</th>\n",
       "      <th>chunk_words</th>\n",
       "      <th>chunk_tokens</th>\n",
       "      <th>embedding</th>\n",
       "    </tr>\n",
       "  </thead>\n",
       "  <tbody>\n",
       "    <tr>\n",
       "      <th>0</th>\n",
       "      <td>0</td>\n",
       "      <td>RELATIONSHIP TERMS &amp; CONDITIONS CORE BANKING A...</td>\n",
       "      <td>54</td>\n",
       "      <td>7</td>\n",
       "      <td>13.50</td>\n",
       "      <td>[-0.28527069091796875, -0.5010668635368347, -0...</td>\n",
       "    </tr>\n",
       "    <tr>\n",
       "      <th>1</th>\n",
       "      <td>2</td>\n",
       "      <td>Contents Important information 1 1 General 1. ...</td>\n",
       "      <td>1496</td>\n",
       "      <td>248</td>\n",
       "      <td>374.00</td>\n",
       "      <td>[-0.2918225824832916, -0.7688528895378113, -0....</td>\n",
       "    </tr>\n",
       "    <tr>\n",
       "      <th>2</th>\n",
       "      <td>2</td>\n",
       "      <td>of your accounts, payments 49 and payment inst...</td>\n",
       "      <td>117</td>\n",
       "      <td>18</td>\n",
       "      <td>29.25</td>\n",
       "      <td>[-0.12205161154270172, -0.7234632968902588, -0...</td>\n",
       "    </tr>\n",
       "    <tr>\n",
       "      <th>3</th>\n",
       "      <td>3</td>\n",
       "      <td>Core Banking Agreement (“The Agreement”) conta...</td>\n",
       "      <td>243</td>\n",
       "      <td>36</td>\n",
       "      <td>60.75</td>\n",
       "      <td>[-0.3948034644126892, -0.8225910663604736, -0....</td>\n",
       "    </tr>\n",
       "    <tr>\n",
       "      <th>4</th>\n",
       "      <td>4</td>\n",
       "      <td>Core Banking Agreement 1 Important Information...</td>\n",
       "      <td>1037</td>\n",
       "      <td>156</td>\n",
       "      <td>259.25</td>\n",
       "      <td>[-0.030174657702445984, -0.39982807636260986, ...</td>\n",
       "    </tr>\n",
       "  </tbody>\n",
       "</table>\n",
       "</div>"
      ],
      "text/plain": [
       "   page_n                                     sentence_chunk  chunk_chars  \\\n",
       "0       0  RELATIONSHIP TERMS & CONDITIONS CORE BANKING A...           54   \n",
       "1       2  Contents Important information 1 1 General 1. ...         1496   \n",
       "2       2  of your accounts, payments 49 and payment inst...          117   \n",
       "3       3  Core Banking Agreement (“The Agreement”) conta...          243   \n",
       "4       4  Core Banking Agreement 1 Important Information...         1037   \n",
       "\n",
       "   chunk_words  chunk_tokens  \\\n",
       "0            7         13.50   \n",
       "1          248        374.00   \n",
       "2           18         29.25   \n",
       "3           36         60.75   \n",
       "4          156        259.25   \n",
       "\n",
       "                                           embedding  \n",
       "0  [-0.28527069091796875, -0.5010668635368347, -0...  \n",
       "1  [-0.2918225824832916, -0.7688528895378113, -0....  \n",
       "2  [-0.12205161154270172, -0.7234632968902588, -0...  \n",
       "3  [-0.3948034644126892, -0.8225910663604736, -0....  \n",
       "4  [-0.030174657702445984, -0.39982807636260986, ...  "
      ]
     },
     "execution_count": 22,
     "metadata": {},
     "output_type": "execute_result"
    }
   ],
   "source": [
    "# convert embeddings back to np.array\n",
    "emb_chunks_df['embedding'] = emb_chunks_df['embedding'].apply(lambda x: np.fromstring(x.strip('[]'), sep=', '))\n",
    "embs = torch.tensor(np.stack(emb_chunks_df['embedding'].tolist(), axis=0), dtype=torch.float32).to(device)\n",
    "\n",
    "pages_n_chunks = emb_chunks_df.to_dict(orient='records')\n",
    "\n",
    "emb_chunks_df.head()"
   ]
  },
  {
   "cell_type": "code",
   "execution_count": 23,
   "metadata": {},
   "outputs": [
    {
     "data": {
      "text/plain": [
       "(torch.Size([103, 1024]),\n",
       " tensor([[-0.2853, -0.5011, -0.1342,  ..., -0.5641, -0.0289,  0.3733],\n",
       "         [-0.2918, -0.7689, -0.4976,  ..., -0.5951,  0.0964,  0.5677],\n",
       "         [-0.1221, -0.7235, -0.7040,  ..., -0.1265, -0.2623,  0.3828],\n",
       "         ...,\n",
       "         [-1.1459, -0.9477, -0.4285,  ..., -0.5960, -0.3391, -0.1244],\n",
       "         [-0.4814, -0.1554, -0.4521,  ..., -0.4333,  0.0816,  0.3699],\n",
       "         [ 0.1392, -0.1616,  0.5991,  ...,  0.2702,  0.2376, -0.7100]],\n",
       "        device='mps:0'))"
      ]
     },
     "execution_count": 23,
     "metadata": {},
     "output_type": "execute_result"
    }
   ],
   "source": [
    "embs.shape, embs"
   ]
  },
  {
   "cell_type": "code",
   "execution_count": 24,
   "metadata": {},
   "outputs": [],
   "source": [
    "emb_model = SentenceTransformer('mixedbread-ai/mxbai-embed-large-v1', device=device)\n",
    "# mixedbread-ai/mxbai-embed-large-v1 all-mpnet-base-v2"
   ]
  },
  {
   "cell_type": "code",
   "execution_count": 25,
   "metadata": {},
   "outputs": [
    {
     "name": "stdout",
     "output_type": "stream",
     "text": [
      "*** Query: foreign currency exchange ***\n",
      "\n",
      "Score: 0.7262\n",
      "Text: The exchange rate applied to your payments will appear on your statement FOREIGN CURRENCY C 26. Payments involving a foreign currency exchange Foreign currency exchange rate information  The exchange rates we use are variable exchange rates which are changing constantly throughout the day (for example, to reflect movements in foreign exchange markets). The exchange rate applied to your payments will appear on your statement. Unless otherwise agreed with you, the exchange rate we will apply to payments you make involving a currency exchange (including any future dated payments) and payments you receive which are in a different currency to the denomination of your account will be the Lloyds Bank Foreign Exchange Rate applicable at the time that your payment is processed. You can contact us to find out the rate which will apply and you can find details of how to contact us in the General Information On Payments, Charges & Contacts or by contacting your relationship team. Unavailable currencies  From time to time we are unable to make payments in certain currencies (you can contact us to check whether payment in a specific currency is available) and you can find details of how to contact us in the General Information On Payments, Charges & Contacts or by contacting your relationship team. If you ask us to make a payment in a currency we do not offer, we may make an equivalent payment in sterling or in a currency other than sterling and we will agree which currency\n",
      "Page number: 40\n",
      "\n",
      "Score: 0.6874\n",
      "Text: End of the next Business Day (or end of the second Business Day if your instructions were initiated in paper form) Payments in euro to a financial institution in the UK or EEA End of the next Business Day (or end of the second Business Day if your instructions were initiated in paper form) Payments in EEA currencies other than euro to a financial institution in the UK or EEA (but not including payments in sterling to be made to a financial institution in the UK) End of the fourth Business Day Payments to be made to a financial institution outside of the UK or EEA Please contact your relationship team for details Payments in currencies other than UK or EEA currencies Please contact your relationship team for details What happens if the beneficiary of a payment has switched accounts  Where we have been notified by a UK banking industry payment scheme service (such as the Current Account Switching Service), that the beneficiary of a payment has moved their current account to another financial institution, we will update your instruction with the beneficiary’s new Sort Code and Account number without further notice to you to ensure that your payment reaches the correct account within the timescales set out in this section.\n",
      "Page number: 39\n",
      "\n",
      "Score: 0.6742\n",
      "Text: with you in advance. Where we make the payment in a currency other than sterling, we will use the Lloyds Bank Foreign Exchange Rate applicable to a Product to convert the payment. If the rate actually used is different to the indicative rate used by us to calculate the sterling (or other currency) payment amount, we may debit all or part of any shortfall to your account. We will notify you if this is the case. In the event of a surplus, this will be refunded to your account. If a payment is converted by the beneficiary’s bank, it will be converted using that bank’s applicable exchange rate at the time.\n",
      "Page number: 40\n",
      "\n",
      "Score: 0.6628\n",
      "Text: transaction.\n",
      "Page number: 37\n",
      "\n",
      "Score: 0.6525\n",
      "Text: instructions When we will action your payment instructions  We will act on your payment instructions so that the amount to be transferred reaches the beneficiary’s bank or other financial institution no later than:  for payments in sterling to be made to a financial institution in the UK, the end of the next Business Day following receipt or deemed receipt of your instructions (or the end of the second Business Day if your instructions were initiated in paper rather than in electronic form);  for payments in euro to be made to a financial institution in the UK or EEA, the end of the next Business Day following receipt or deemed receipt of your instructions (or the end of the second Business Day if your instructions were initiated in paper rather than in electronic form); and  for payments in EEA currencies other than euro to be made to a financial institution in the UK or EEA (but not including payments in sterling to be made to a financial institution in the UK), the end of the fourth Business Day following receipt or deemed receipt of your instructions.  For payments to be made to a financial institution outside of the UK or EEA or for payments in currencies other than UK or EEA currencies, you agree that the timescales set out above do not apply to such payments. Please contact your relationship team for details of how long it will take to process your payment. Summary of execution times Payments in sterling to a financial institution in the UK\n",
      "Page number: 39\n",
      "\n"
     ]
    }
   ],
   "source": [
    "query = 'foreign currency exchange'\n",
    "\n",
    "query_emb = emb_model.encode(query, convert_to_tensor=True).to(device)\n",
    "\n",
    "scores = util.cos_sim(a=query_emb, b=embs)[0] # cos_sim dot_score\n",
    "\n",
    "top_results = torch.topk(scores, k=5)\n",
    "\n",
    "print(f'*** Query: {query} ***\\n')\n",
    "for score, idx in zip(top_results[0], top_results[1]):\n",
    "    print(f'Score: {score:.4f}')\n",
    "    print(f'Text: {pages_n_chunks[idx][\"sentence_chunk\"]}')\n",
    "    print(f'Page number: {pages_n_chunks[idx][\"page_n\"]}\\n')\n"
   ]
  },
  {
   "cell_type": "code",
   "execution_count": 26,
   "metadata": {},
   "outputs": [],
   "source": [
    "def retrieve_relevant_info(query: str, embeddings: torch.tensor, model: SentenceTransformer=emb_model, n_to_retrieve: int=5) -> torch.tensor:\n",
    "    query_emb = model.encode(query, convert_to_tensor=True)\n",
    "    dot_scores = util.cos_sim(query_emb, embeddings)[0]\n",
    "    scores, indices = torch.topk(dot_scores, n_to_retrieve)\n",
    "    print(scores)\n",
    "    return scores, indices\n",
    "\n",
    "def print_topk(query: str, embeddings: torch.tensor, pages_n_chunks: list[dict]=pages_n_chunks, n_to_retrieve: int=5):\n",
    "    scores, indices = retrieve_relevant_info(query, embeddings)\n",
    "\n",
    "    print(f'--- Query: {query} ---')\n",
    "    for score, idx in zip(scores, indices):\n",
    "        print(f'Score: {score:.4f}')\n",
    "        print(f'Text: {pages_n_chunks[idx][\"sentence_chunk\"]}')\n",
    "        print(f'Page number: {pages_n_chunks[idx][\"page_n\"]}\\n')"
   ]
  },
  {
   "cell_type": "code",
   "execution_count": 27,
   "metadata": {},
   "outputs": [
    {
     "name": "stdout",
     "output_type": "stream",
     "text": [
      "tensor([0.6958, 0.6391, 0.5893, 0.5642, 0.5568], device='mps:0')\n",
      "--- Query: exchange rates abroad ---\n",
      "Score: 0.6958\n",
      "Text: The exchange rate applied to your payments will appear on your statement FOREIGN CURRENCY C 26. Payments involving a foreign currency exchange Foreign currency exchange rate information  The exchange rates we use are variable exchange rates which are changing constantly throughout the day (for example, to reflect movements in foreign exchange markets). The exchange rate applied to your payments will appear on your statement. Unless otherwise agreed with you, the exchange rate we will apply to payments you make involving a currency exchange (including any future dated payments) and payments you receive which are in a different currency to the denomination of your account will be the Lloyds Bank Foreign Exchange Rate applicable at the time that your payment is processed. You can contact us to find out the rate which will apply and you can find details of how to contact us in the General Information On Payments, Charges & Contacts or by contacting your relationship team. Unavailable currencies  From time to time we are unable to make payments in certain currencies (you can contact us to check whether payment in a specific currency is available) and you can find details of how to contact us in the General Information On Payments, Charges & Contacts or by contacting your relationship team. If you ask us to make a payment in a currency we do not offer, we may make an equivalent payment in sterling or in a currency other than sterling and we will agree which currency\n",
      "Page number: 40\n",
      "\n",
      "Score: 0.6391\n",
      "Text: with you in advance. Where we make the payment in a currency other than sterling, we will use the Lloyds Bank Foreign Exchange Rate applicable to a Product to convert the payment. If the rate actually used is different to the indicative rate used by us to calculate the sterling (or other currency) payment amount, we may debit all or part of any shortfall to your account. We will notify you if this is the case. In the event of a surplus, this will be refunded to your account. If a payment is converted by the beneficiary’s bank, it will be converted using that bank’s applicable exchange rate at the time.\n",
      "Page number: 40\n",
      "\n",
      "Score: 0.5893\n",
      "Text: End of the next Business Day (or end of the second Business Day if your instructions were initiated in paper form) Payments in euro to a financial institution in the UK or EEA End of the next Business Day (or end of the second Business Day if your instructions were initiated in paper form) Payments in EEA currencies other than euro to a financial institution in the UK or EEA (but not including payments in sterling to be made to a financial institution in the UK) End of the fourth Business Day Payments to be made to a financial institution outside of the UK or EEA Please contact your relationship team for details Payments in currencies other than UK or EEA currencies Please contact your relationship team for details What happens if the beneficiary of a payment has switched accounts  Where we have been notified by a UK banking industry payment scheme service (such as the Current Account Switching Service), that the beneficiary of a payment has moved their current account to another financial institution, we will update your instruction with the beneficiary’s new Sort Code and Account number without further notice to you to ensure that your payment reaches the correct account within the timescales set out in this section.\n",
      "Page number: 39\n",
      "\n",
      "Score: 0.5642\n",
      "Text: currency in which your account was debited or in the currency used for the payment order; c. the amount of the transaction in the currency in which your account was credited; d. the amount of any charges for the transaction and, where applicable, a breakdown of those charges, and/or any interest payable by you; d. the amount of any charges for the transaction and, where applicable, a breakdown of those charges, and/or any interest payable by you; e. where applicable, the exchange rate used in relation to the transaction and the amount of the transaction after the currency conversion; and e. where applicable, the exchange rate used in relation to the transaction and the amount of the transaction before the currency conversion; and f. the debit value date or the date of receipt of the payment order. f. the credit value date. 48 statements We will provide or make statements of account available to you monthly or as otherwise agreed between you and us\n",
      "Page number: 51\n",
      "\n",
      "Score: 0.5568\n",
      "Text: instructions When we will action your payment instructions  We will act on your payment instructions so that the amount to be transferred reaches the beneficiary’s bank or other financial institution no later than:  for payments in sterling to be made to a financial institution in the UK, the end of the next Business Day following receipt or deemed receipt of your instructions (or the end of the second Business Day if your instructions were initiated in paper rather than in electronic form);  for payments in euro to be made to a financial institution in the UK or EEA, the end of the next Business Day following receipt or deemed receipt of your instructions (or the end of the second Business Day if your instructions were initiated in paper rather than in electronic form); and  for payments in EEA currencies other than euro to be made to a financial institution in the UK or EEA (but not including payments in sterling to be made to a financial institution in the UK), the end of the fourth Business Day following receipt or deemed receipt of your instructions.  For payments to be made to a financial institution outside of the UK or EEA or for payments in currencies other than UK or EEA currencies, you agree that the timescales set out above do not apply to such payments. Please contact your relationship team for details of how long it will take to process your payment. Summary of execution times Payments in sterling to a financial institution in the UK\n",
      "Page number: 39\n",
      "\n"
     ]
    }
   ],
   "source": [
    "query = 'exchange rates abroad'\n",
    "print_topk(query,embs)"
   ]
  },
  {
   "cell_type": "code",
   "execution_count": 28,
   "metadata": {},
   "outputs": [
    {
     "data": {
      "application/vnd.jupyter.widget-view+json": {
       "model_id": "0a4de10caed34b35a48c3d20983ec88c",
       "version_major": 2,
       "version_minor": 0
      },
      "text/plain": [
       "Loading checkpoint shards:   0%|          | 0/2 [00:00<?, ?it/s]"
      ]
     },
     "metadata": {},
     "output_type": "display_data"
    }
   ],
   "source": [
    "model_id = 'google/gemma-2b-it'\n",
    "\n",
    "tokenizer = AutoTokenizer.from_pretrained(model_id)\n",
    "llm_model = AutoModelForCausalLM.from_pretrained(model_id, torch_dtype=torch.float16, low_cpu_mem_usage=False, attn_implementation='sdpa').to(device)"
   ]
  },
  {
   "cell_type": "code",
   "execution_count": 29,
   "metadata": {},
   "outputs": [],
   "source": [
    "queries = [\n",
    "    'In what cases may I close my account?',\n",
    "    'How do you pay interest?',\n",
    "    'Can the terms and conditions be changed?',\n",
    "    'What is meant by Business Day?',\n",
    "    'How can I reach you?',\n",
    "    'How do you receive my payment instructions?',\n",
    "    'In which cases can you terminate my account?',\n",
    "    'Who is authorised to give you instructions?'\n",
    "]"
   ]
  },
  {
   "cell_type": "code",
   "execution_count": 30,
   "metadata": {},
   "outputs": [],
   "source": [
    "def prompt_formatter(query: str, context_items: list[dict]) -> str:\n",
    "    context = '- ' + '\\n- '.join([item['sentence_chunk'] for item in context_items])\n",
    "    base_prompt = \"\"\"Based on the following context items, please answer the query.\n",
    "Give yourself room to think by extracting relevant passages from the context before answering the query.\n",
    "Don't return the thinking, only return the answer.\n",
    "Make sure your answers are as explanatory as possible.\n",
    "Use the following examples as reference for the ideal answer style, but don't use the below example answers as answers to the query.\n",
    "\\nExample 1:\n",
    "Query: Who can provide instructions to the bank according to the terms and conditions?\n",
    "Answer: According to the terms and conditions, only authorized individuals can give instructions to the bank.\n",
    "\\nExample 2:\n",
    "Query: What are your rights regarding the termination of services as outlined in the terms and conditions?\n",
    "Answer: The terms and conditions specify the rights granted to you in the event of termination, including any associated procedures or obligations.\n",
    "\\nExample 3:\n",
    "Query: How does the bank handle refunds for incorrectly executed payment instructions, as per the terms and conditions?\n",
    "Answer: The terms and conditions detail the process for obtaining refunds in the case of payment instructions being incorrectly executed by the bank.\n",
    "\\nExample 4:\n",
    "Query: What measures are outlined in the terms and conditions to ensure the security of your accounts and payment instruments?\n",
    "Answer: The terms and conditions lay out your obligations regarding the security of your accounts, payments, and payment instruments, along with any corresponding measures implemented by the bank.\n",
    "\\nNow use the following context items to answer the user query:\n",
    "{context}\n",
    "\\nRelevant passages: <extract relevant passages from the context here>\n",
    "User query: {query}\n",
    "Answer:\"\"\"\n",
    "\n",
    "    base_prompt = base_prompt.format(context=context, query=query)\n",
    "    \n",
    "    # make sure the inputs to the model are in the same way that they have been trained\n",
    "    dialogue_template = [\n",
    "        {\n",
    "            'role': 'user',\n",
    "            'content': base_prompt\n",
    "        }\n",
    "    ]\n",
    "    prompt = tokenizer.apply_chat_template(conversation=dialogue_template, tokenize=False, add_generation_prompt=True)\n",
    "\n",
    "    return prompt"
   ]
  },
  {
   "cell_type": "code",
   "execution_count": 31,
   "metadata": {},
   "outputs": [],
   "source": [
    "def ask(query: str, temperature: float=0.2, max_new_tokens: int=256, format_answer_text: bool=True, return_context: bool=False):\n",
    "    # -------- RETRIEVAL --------\n",
    "    scores, indices = retrieve_relevant_info(query, embs, n_to_retrieve=10)\n",
    "    context_items = [pages_n_chunks[i] for i in indices]\n",
    "    for i, item in enumerate(context_items):\n",
    "        item['score'] = scores[i].cpu()\n",
    "\n",
    "    # -------- AUGMENTATION --------\n",
    "    prompt = prompt_formatter(query, context_items)\n",
    "\n",
    "    # -------- GENERATION --------\n",
    "    input_ids = tokenizer(prompt, return_tensors='pt').to(device)\n",
    "    streamer = TextStreamer(tokenizer, skip_prompt=True, skip_special_tokens=True)\n",
    "    outputs = llm_model.generate(**input_ids, streamer=streamer, temperature=temperature, do_sample=True, max_new_tokens=max_new_tokens)\n",
    "    output_text = tokenizer.decode(outputs[0])\n",
    "\n",
    "    if format_answer_text:\n",
    "        output_text = output_text.replace(prompt, '').replace('<bos>', '').replace('<eos>', '')\n",
    "\n",
    "    # if not return_context:\n",
    "        # return output_text\n",
    "    \n",
    "    # return output_text, context_items"
   ]
  },
  {
   "cell_type": "code",
   "execution_count": 34,
   "metadata": {},
   "outputs": [
    {
     "name": "stdout",
     "output_type": "stream",
     "text": [
      "Query: What is meant by Business Day?\n",
      "tensor([0.8094, 0.5621, 0.5579, 0.5514, 0.5400, 0.5357, 0.5356, 0.5291, 0.5265,\n",
      "        0.5241], device='mps:0')\n",
      "According to the context, a Business Day means 9am to 5pm every Monday to Friday other than public or bank holidays in England and Wales, unless you are transacting through one of our branches which opens for shorter hours or we notify you of different times for the processing of payments.\n"
     ]
    }
   ],
   "source": [
    "query = random.choice(queries) # 'What is meant by Business Day?'\n",
    "print(f'Query: {query}')\n",
    "ask(query, temperature=0.7, return_context=False)"
   ]
  },
  {
   "cell_type": "code",
   "execution_count": 33,
   "metadata": {},
   "outputs": [],
   "source": [
    "torch.mps.empty_cache()"
   ]
  },
  {
   "cell_type": "code",
   "execution_count": null,
   "metadata": {},
   "outputs": [],
   "source": []
  }
 ],
 "metadata": {
  "kernelspec": {
   "display_name": "Python 3",
   "language": "python",
   "name": "python3"
  },
  "language_info": {
   "codemirror_mode": {
    "name": "ipython",
    "version": 3
   },
   "file_extension": ".py",
   "mimetype": "text/x-python",
   "name": "python",
   "nbconvert_exporter": "python",
   "pygments_lexer": "ipython3",
   "version": "3.11.4"
  }
 },
 "nbformat": 4,
 "nbformat_minor": 2
}
